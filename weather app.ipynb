{
 "cells": [
  {
   "cell_type": "code",
   "execution_count": 3,
   "metadata": {},
   "outputs": [
    {
     "name": "stdout",
     "output_type": "stream",
     "text": [
      "Enter the name of the location : hyderabad\n",
      "Enter the Unit of temperature : Celsius or Fahrenheit or Kelvin - 32\n",
      "Enter correct Unit of Temperature\n",
      "Pressure in HPA Unit : 1017\n",
      "Humidity in percentage : 19\n",
      "Weather Report : few clouds\n"
     ]
    }
   ],
   "source": [
    "import requests\n",
    "import json\n",
    "api_key = \"f2b7f58d8e3adc2f77a3456413b330d5\"    \n",
    "\n",
    "api_url = \"https://api.openweathermap.org/data/2.5/weather?\"    # OpenWeatherMap URL\n",
    "\n",
    "location = input('Enter the name of the location : ')                     # City name\n",
    "\n",
    "url = api_url + \"q=\"  + location + \"&appid=\" + api_key         # Complete URL\n",
    "\n",
    "response = requests.get(url)                                    # Checking the status code\n",
    "\n",
    "if response.status_code == 200:\n",
    "    data = response.json()  # Storing data in json format\n",
    "    response = data   # storing data in json format is assign to a new variable\n",
    "    code = response[\"main\"]\n",
    "    temperature = code[\"temp\"]                             # Temperature\n",
    "    Pressure = code[\"pressure\"]                            # Pressure\n",
    "    Humidity = code[\"humidity\"]                            # Humidity\n",
    "    weather_description = response[\"weather\"]                          # Description of weather C = K – 273.15\n",
    "    user_input = input(\"Enter the Unit of temperature : Celsius or Fahrenheit or Kelvin - \")           # Select the unit of temperature\n",
    "    if user_input == \"celsius\":\n",
    "        celsius = temperature - 273.15                  # Kelvin to celsius conversion\n",
    "        print(f\"Temperature in celsius units : {celsius}\")\n",
    "\n",
    "    elif user_input == \"fahrenheit\":\n",
    "        fahrenheit = ((temperature - 273.15) * (9/5) + 32) # Kelvin to fahrenheit conversion\n",
    "        print(f\"Temperature in fahrenheit units : {fahrenheit}\")\n",
    "\n",
    "    elif user_input == \"kelvin\":\n",
    "        print(f\"Temperature in Kelvin units : {temperature}\")  # Temperature in kelvin\n",
    "\n",
    "    else:\n",
    "        print(\"Enter correct Unit of Temperature\")\n",
    "\n",
    "    print(f\"Pressure in HPA Unit : {Pressure}\")\n",
    "    print(f\"Humidity in percentage : {Humidity}\")\n",
    "    print(f\"Weather Report : {weather_description[0]['description']}\")\n",
    "else:\n",
    "    print(f\"{location} : Please do check the name of the location that you have entered or Error in the HTTP request. Sorry!\")\n"
   ]
  },
  {
   "cell_type": "code",
   "execution_count": null,
   "metadata": {},
   "outputs": [],
   "source": []
  }
 ],
 "metadata": {
  "kernelspec": {
   "display_name": "Python 3",
   "language": "python",
   "name": "python3"
  },
  "language_info": {
   "codemirror_mode": {
    "name": "ipython",
    "version": 3
   },
   "file_extension": ".py",
   "mimetype": "text/x-python",
   "name": "python",
   "nbconvert_exporter": "python",
   "pygments_lexer": "ipython3",
   "version": "3.8.5"
  }
 },
 "nbformat": 4,
 "nbformat_minor": 4
}
